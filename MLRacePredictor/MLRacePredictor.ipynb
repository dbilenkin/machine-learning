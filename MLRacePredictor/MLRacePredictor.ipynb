{
 "cells": [
  {
   "cell_type": "code",
   "execution_count": 4,
   "metadata": {},
   "outputs": [
    {
     "name": "stdout",
     "output_type": "stream",
     "text": [
      "Jeff's 5K: 22:10\n",
      "Zubin's 5K: 44:04\n"
     ]
    }
   ],
   "source": [
    "# -*- coding: utf-8 -*-\n",
    "from selenium import webdriver\n",
    "from selenium.webdriver.common.by import By\n",
    "from selenium.webdriver.common.keys import Keys\n",
    "from selenium.webdriver.support.ui import Select\n",
    "from selenium.common.exceptions import NoSuchElementException\n",
    "from selenium.common.exceptions import NoAlertPresentException\n",
    "import unittest, time, re\n",
    "import csv\n",
    "\n",
    "run_data = []\n",
    "\n",
    "def get_data(driver, user):\n",
    "    \n",
    "    fiveK = driver.find_elements_by_xpath(\"//*[contains(text(), '5K')]/following-sibling::span\").text\n",
    "    half = driver.find_elements_by_xpath(\"//*[contains(text(), 'Half Marathon')]/following-sibling::span\").text\n",
    "    marathon = driver.find_elements_by_xpath(\"//*[contains(text(), 'Marathon')]/following-sibling::span\").text\n",
    "    \n",
    "    run_data.append({\n",
    "        'user': user\n",
    "        '5K': fiveK,\n",
    "        'half': half,\n",
    "        'marathon': marathon\n",
    "    })\n",
    "\n",
    "def write_to_csv():\n",
    "\n",
    "    keys = run_data[0].keys()\n",
    "    with open('data.csv', 'wb') as output_file:\n",
    "        dict_writer = csv.DictWriter(output_file, keys)\n",
    "        dict_writer.writeheader()\n",
    "        dict_writer.writerows(toCSV)\n",
    "    \n",
    "def test_garmin_login():\n",
    "    driver = webdriver.Firefox()\n",
    "    driver.implicitly_wait(30)\n",
    "    driver.get(\"https://connect.garmin.com/en-US/signin?service=https://connect.garmin.com/modern/activities\")\n",
    "    \n",
    "    driver.switch_to_frame(driver.find_element_by_tag_name(\"iframe\"))\n",
    "    driver.find_element_by_id(\"username\").clear()\n",
    "    driver.find_element_by_id(\"username\").send_keys(\"dbilenkin@gmail.com\")\n",
    "    driver.find_element_by_id(\"password\").clear()\n",
    "    driver.find_element_by_id(\"password\").send_keys(\"as77db1A\")\n",
    "    driver.find_element_by_id(\"login-btn-signin\").click()\n",
    "    # ERROR: Caught exception [ERROR: Unsupported command [selectFrame | relative=parent | ]]\n",
    "    \n",
    "    driver.implicitly_wait(30)\n",
    "    driver.switch_to_default_content()\n",
    "\n",
    "    driver.find_element_by_xpath(\"//span[contains(text(),'Connections')]\").click()\n",
    "    driver.implicitly_wait(30)\n",
    "    \n",
    "    connections = driver.find_elements_by_xpath(\"//div[@class='title']/a[@class='colored']\")\n",
    "    for connection in connections:\n",
    "        href = org.get_attribute(\"href\")\n",
    "        user = href.split(\"profile/\",1)[1]\n",
    "        driver.get(href)\n",
    "        get_data(driver, user)\n",
    "       \n",
    "\n",
    "    \n",
    "test_garmin_login()\n",
    "write_to_csv()\n",
    "    \n",
    "\n"
   ]
  },
  {
   "cell_type": "code",
   "execution_count": null,
   "metadata": {
    "collapsed": true
   },
   "outputs": [],
   "source": []
  }
 ],
 "metadata": {
  "kernelspec": {
   "display_name": "Python 2",
   "language": "python",
   "name": "python2"
  },
  "language_info": {
   "codemirror_mode": {
    "name": "ipython",
    "version": 2
   },
   "file_extension": ".py",
   "mimetype": "text/x-python",
   "name": "python",
   "nbconvert_exporter": "python",
   "pygments_lexer": "ipython2",
   "version": "2.7.13"
  }
 },
 "nbformat": 4,
 "nbformat_minor": 2
}
